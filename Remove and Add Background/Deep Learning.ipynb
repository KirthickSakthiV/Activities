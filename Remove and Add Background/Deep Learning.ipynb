from PIL import Image
from rembg import remove
import os
     

imgPath = '/content/person.jpg'
output = 'newfile.jpg'
     

with open(output,'wb') as f:
  input = open(imgPath,'rb').read()
  subject = remove(input,alpha_matting=True)
  f.write(subject)

bgImg = '/content/bg.jpg'
newImg = 'merged.jpg'

img = Image.open(imgPath)
bgImg = Image.open(bgImg).resize((img.width, img.height))
fgImg = Image.open('/content/newfile.jpg').convert('RGBA')

bgImg.paste(fgImg, (0, 0), fgImg)
bgImg.save('merged.jpg', format='jpeg')
     